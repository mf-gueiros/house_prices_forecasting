{
 "cells": [
  {
   "cell_type": "code",
   "execution_count": 2,
   "metadata": {},
   "outputs": [],
   "source": [
    "import pandas as pd\n",
    "import json\n",
    "import cloudscraper\n",
    "import certifi\n",
    "from parsel import Selector\n",
    "from bs4 import BeautifulSoup\n",
    "import pprint"
   ]
  },
  {
   "cell_type": "code",
   "execution_count": 3,
   "metadata": {},
   "outputs": [],
   "source": [
    "scraper = cloudscraper.create_scraper()\n",
    "r = scraper.get('https://www.olx.com.br/imoveis/venda/apartamentos/estado-pe/grande-recife/recife?o=1', verify=certifi.where())\n",
    "\n",
    "soup = BeautifulSoup(r.text, 'html.parser')\n",
    "script_data = soup.find('script', {'id': '__NEXT_DATA__'}).string\n",
    "\n",
    "html = json.loads(script_data)\n",
    "\n",
    "dados = html.get('props', {}).get('pageProps', {}).get('ads', [])"
   ]
  },
  {
   "cell_type": "code",
   "execution_count": 4,
   "metadata": {},
   "outputs": [
    {
     "name": "stdout",
     "output_type": "stream",
     "text": [
      "{'accountActivityStatus': {'isOnline': False},\n",
      " 'category': 'Apartamentos',\n",
      " 'date': 1724531466,\n",
      " 'fixedOnTop': True,\n",
      " 'hasRealEstateHighlight': False,\n",
      " 'imageCount': 16,\n",
      " 'images': [{'original': 'https://img.olx.com.br/images/52/525330567528087.jpg',\n",
      "             'originalAlt': 'Candeias Prince - 2102 B - Proprietário',\n",
      "             'originalWebP': 'https://img.olx.com.br/images/52/525330567528087.webp',\n",
      "             'thumbnail': 'https://img.olx.com.br/thumbs/52/525330567528087.jpg'},\n",
      "            {'original': 'https://img.olx.com.br/images/51/514325204774933.jpg',\n",
      "             'originalAlt': 'Candeias Prince - 2102 B - Proprietário - Foto 2',\n",
      "             'originalWebP': 'https://img.olx.com.br/images/51/514325204774933.webp',\n",
      "             'thumbnail': 'https://img.olx.com.br/thumbs/51/514325204774933.jpg'},\n",
      "            {'original': 'https://img.olx.com.br/images/46/467367804295138.jpg',\n",
      "             'originalAlt': 'Candeias Prince - 2102 B - Proprietário - Foto 3',\n",
      "             'originalWebP': 'https://img.olx.com.br/images/46/467367804295138.webp',\n",
      "             'thumbnail': 'https://img.olx.com.br/thumbs/46/467367804295138.jpg'},\n",
      "            {'original': 'https://img.olx.com.br/images/51/512362806033606.jpg',\n",
      "             'originalAlt': 'Candeias Prince - 2102 B - Proprietário - Foto 4',\n",
      "             'originalWebP': 'https://img.olx.com.br/images/51/512362806033606.webp',\n",
      "             'thumbnail': 'https://img.olx.com.br/thumbs/51/512362806033606.jpg'},\n",
      "            {'original': 'https://img.olx.com.br/images/51/512356320758402.jpg',\n",
      "             'originalAlt': 'Candeias Prince - 2102 B - Proprietário - Foto 5',\n",
      "             'originalWebP': 'https://img.olx.com.br/images/51/512356320758402.webp',\n",
      "             'thumbnail': 'https://img.olx.com.br/thumbs/51/512356320758402.jpg'},\n",
      "            {'original': 'https://img.olx.com.br/images/51/512395320394141.jpg',\n",
      "             'originalAlt': 'Candeias Prince - 2102 B - Proprietário - Foto 6',\n",
      "             'originalWebP': 'https://img.olx.com.br/images/51/512395320394141.webp',\n",
      "             'thumbnail': 'https://img.olx.com.br/thumbs/51/512395320394141.jpg'},\n",
      "            {'original': 'https://img.olx.com.br/images/51/510305209137183.jpg',\n",
      "             'originalAlt': 'Candeias Prince - 2102 B - Proprietário - Foto 7',\n",
      "             'originalWebP': 'https://img.olx.com.br/images/51/510305209137183.webp',\n",
      "             'thumbnail': 'https://img.olx.com.br/thumbs/51/510305209137183.jpg'},\n",
      "            {'original': 'https://img.olx.com.br/images/50/500325686619651.jpg',\n",
      "             'originalAlt': 'Candeias Prince - 2102 B - Proprietário - Foto 8',\n",
      "             'originalWebP': 'https://img.olx.com.br/images/50/500325686619651.webp',\n",
      "             'thumbnail': 'https://img.olx.com.br/thumbs/50/500325686619651.jpg'},\n",
      "            {'original': 'https://img.olx.com.br/images/51/519380804117868.jpg',\n",
      "             'originalAlt': 'Candeias Prince - 2102 B - Proprietário - Foto 9',\n",
      "             'originalWebP': 'https://img.olx.com.br/images/51/519380804117868.webp',\n",
      "             'thumbnail': 'https://img.olx.com.br/thumbs/51/519380804117868.jpg'},\n",
      "            {'original': 'https://img.olx.com.br/images/50/508348922540995.jpg',\n",
      "             'originalAlt': 'Candeias Prince - 2102 B - Proprietário - Foto 10',\n",
      "             'originalWebP': 'https://img.olx.com.br/images/50/508348922540995.webp',\n",
      "             'thumbnail': 'https://img.olx.com.br/thumbs/50/508348922540995.jpg'},\n",
      "            {'original': 'https://img.olx.com.br/images/52/528351809866755.jpg',\n",
      "             'originalAlt': 'Candeias Prince - 2102 B - Proprietário - Foto 11',\n",
      "             'originalWebP': 'https://img.olx.com.br/images/52/528351809866755.webp',\n",
      "             'thumbnail': 'https://img.olx.com.br/thumbs/52/528351809866755.jpg'},\n",
      "            {'original': 'https://img.olx.com.br/images/51/512321207092616.jpg',\n",
      "             'originalAlt': 'Candeias Prince - 2102 B - Proprietário - Foto 12',\n",
      "             'originalWebP': 'https://img.olx.com.br/images/51/512321207092616.webp',\n",
      "             'thumbnail': 'https://img.olx.com.br/thumbs/51/512321207092616.jpg'},\n",
      "            {'original': 'https://img.olx.com.br/images/48/483376449398376.jpg',\n",
      "             'originalAlt': 'Candeias Prince - 2102 B - Proprietário - Foto 13',\n",
      "             'originalWebP': 'https://img.olx.com.br/images/48/483376449398376.webp',\n",
      "             'thumbnail': 'https://img.olx.com.br/thumbs/48/483376449398376.jpg'},\n",
      "            {'original': 'https://img.olx.com.br/images/51/511368326396658.jpg',\n",
      "             'originalAlt': 'Candeias Prince - 2102 B - Proprietário - Foto 14',\n",
      "             'originalWebP': 'https://img.olx.com.br/images/51/511368326396658.webp',\n",
      "             'thumbnail': 'https://img.olx.com.br/thumbs/51/511368326396658.jpg'},\n",
      "            {'original': 'https://img.olx.com.br/images/52/527303084746035.jpg',\n",
      "             'originalAlt': 'Candeias Prince - 2102 B - Proprietário - Foto 15',\n",
      "             'originalWebP': 'https://img.olx.com.br/images/52/527303084746035.webp',\n",
      "             'thumbnail': 'https://img.olx.com.br/thumbs/52/527303084746035.jpg'},\n",
      "            {'original': 'https://img.olx.com.br/images/26/265436627528972.jpg',\n",
      "             'originalAlt': 'Candeias Prince - 2102 B - Proprietário - Foto 16',\n",
      "             'originalWebP': 'https://img.olx.com.br/images/26/265436627528972.webp',\n",
      "             'thumbnail': 'https://img.olx.com.br/thumbs/26/265436627528972.jpg'}],\n",
      " 'installments': False,\n",
      " 'isChatEnabled': True,\n",
      " 'isFavorited': False,\n",
      " 'isFeatured': True,\n",
      " 'lastBumpAgeSecs': '2638',\n",
      " 'listId': 1128886101,\n",
      " 'listingCategoryId': '1001',\n",
      " 'location': 'Recife, Boa Viagem',\n",
      " 'locationDetails': {'ddd': '81',\n",
      "                     'municipality': 'Recife',\n",
      "                     'neighbourhood': 'Boa Viagem',\n",
      "                     'uf': 'PE'},\n",
      " 'oldPrice': None,\n",
      " 'olxDelivery': {'enabled': False, 'weight': None},\n",
      " 'olxDeliveryBadgeEnabled': False,\n",
      " 'olxPay': {'dynamicBadgeProps': [],\n",
      "            'enabled': False,\n",
      "            'installments': [],\n",
      "            'isCategoryEligible': False},\n",
      " 'olxPayBadgeEnabled': False,\n",
      " 'position': 0,\n",
      " 'price': 'R$ 690.000',\n",
      " 'professionalAd': False,\n",
      " 'properties': [{'label': 'Categoria',\n",
      "                 'name': 'category',\n",
      "                 'value': 'Apartamentos'},\n",
      "                {'label': 'Tipo',\n",
      "                 'name': 'real_estate_type',\n",
      "                 'value': 'Venda - apartamento padrão'},\n",
      "                {'label': 'Área útil', 'name': 'size', 'value': '67m²'},\n",
      "                {'label': 'Quartos', 'name': 'rooms', 'value': '3'},\n",
      "                {'label': 'Banheiros', 'name': 'bathrooms', 'value': '2'},\n",
      "                {'label': 'Vagas na garagem',\n",
      "                 'name': 'garage_spaces',\n",
      "                 'value': '1'},\n",
      "                {'label': 'Tipo', 'name': 're_types', 'value': 'Padrão'}],\n",
      " 'searchCategoryLevelOne': 1001,\n",
      " 'searchCategoryLevelZero': 1000,\n",
      " 'subject': 'Candeias Prince - 2102 B - Proprietário',\n",
      " 'thumbnail': 'https://img.olx.com.br/thumbs256x256/52/525330567528087.jpg',\n",
      " 'title': 'Candeias Prince - 2102 B - Proprietário',\n",
      " 'trackingSpecificData': [{'key': 'region', 'value': 'Grande Recife'}],\n",
      " 'url': 'https://pe.olx.com.br/grande-recife/imoveis/candeias-prince-2102-b-proprietario-1128886101',\n",
      " 'vehicleHasInspectionReport': False,\n",
      " 'vehiclePills': None,\n",
      " 'vehicleReport': {'description': None,\n",
      "                   'enabled': False,\n",
      "                   'reportLink': None,\n",
      "                   'reportTitle': None,\n",
      "                   'tags': None,\n",
      "                   'title': None},\n",
      " 'vehicleTags': [],\n",
      " 'videoCount': 0}\n"
     ]
    }
   ],
   "source": [
    "pprint.pprint(dados[0])"
   ]
  },
  {
   "cell_type": "code",
   "execution_count": 5,
   "metadata": {},
   "outputs": [
    {
     "name": "stdout",
     "output_type": "stream",
     "text": [
      "Atributos disponíveis no anúncio: ['subject', 'title', 'price', 'listId', 'lastBumpAgeSecs', 'oldPrice', 'professionalAd', 'isFeatured', 'listingCategoryId', 'images', 'videoCount', 'isChatEnabled', 'fixedOnTop', 'url', 'thumbnail', 'date', 'imageCount', 'location', 'locationDetails', 'category', 'searchCategoryLevelZero', 'searchCategoryLevelOne', 'properties', 'accountActivityStatus', 'position', 'olxPay', 'olxPayBadgeEnabled', 'olxDelivery', 'olxDeliveryBadgeEnabled', 'installments', 'vehicleReport', 'vehicleTags', 'vehicleHasInspectionReport', 'vehiclePills', 'isFavorited', 'hasRealEstateHighlight', 'trackingSpecificData']\n"
     ]
    }
   ],
   "source": [
    "# Listar os atributos de cada anuncio\n",
    "atributos = dados[0].keys()\n",
    "print(f\"Atributos disponíveis no anúncio: {list(atributos)}\")"
   ]
  },
  {
   "cell_type": "code",
   "execution_count": 36,
   "metadata": {},
   "outputs": [
    {
     "name": "stdout",
     "output_type": "stream",
     "text": [
      "Erro na página 3. Código: 'NoneType' object has no attribute 'string'\n",
      "Erro na página 9. Código: 'NoneType' object has no attribute 'string'\n",
      "Erro na página 13. Código: 'NoneType' object has no attribute 'string'\n",
      "Erro na página 33. Código: 'NoneType' object has no attribute 'string'\n",
      "Quantidade de anúncios coletados: 4851\n"
     ]
    }
   ],
   "source": [
    "# Quantidade de páginas a iterar\n",
    "qtd_paginas = 100\n",
    "\n",
    "vetor_anuncios = []\n",
    "\n",
    "scraper = cloudscraper.create_scraper()\n",
    "\n",
    "for i in range(1, qtd_paginas + 1):\n",
    "    try:\n",
    "        r = scraper.get(f'https://www.olx.com.br/imoveis/venda/apartamentos/estado-pe/grande-recife/recife?o={i}', verify=certifi.where())\n",
    "\n",
    "        soup = BeautifulSoup(r.text, 'html.parser')\n",
    "        script_data = soup.find('script', {'id': '__NEXT_DATA__'}).string\n",
    "\n",
    "        if not script_data:\n",
    "            print(f\"Não foram encontrados dados na página {i}\")\n",
    "            continue\n",
    "\n",
    "        html = json.loads(script_data)\n",
    "\n",
    "        dados = html.get('props', {}).get('pageProps', {}).get('ads', [])\n",
    "\n",
    "        if not dados:\n",
    "            print(f\"Não foram encontrados dados na página {i}\")\n",
    "            continue\n",
    "\n",
    "        for anuncio in dados:\n",
    "            dados_anuncio = {\n",
    "                'Titulo Imovel': anuncio.get('title'),\n",
    "                'Valor': anuncio.get('price'),\n",
    "                'Link': anuncio.get('url'),\n",
    "                'Localizacao': anuncio.get('location'),\n",
    "                'Bairro': anuncio.get('locationDetails', {}).get('neighbourhood', 'N/A'),\n",
    "                'Propriedade': anuncio.get('properties'),\n",
    "                'Adicionais':  anuncio.get('properties')\n",
    "                }\n",
    "            \n",
    "            #verificando títulos inválidos (vazios)\n",
    "            if dados_anuncio['Titulo Imovel'] is not None:\n",
    "                vetor_anuncios.append(dados_anuncio)\n",
    "    \n",
    "    except Exception as e:\n",
    "        print(f\"Erro na página {i}. Código: {e}\")\n",
    "\n",
    "print(\"Quantidade de anúncios coletados:\", len(vetor_anuncios))\n"
   ]
  },
  {
   "cell_type": "code",
   "execution_count": 37,
   "metadata": {},
   "outputs": [],
   "source": [
    "df = pd.DataFrame(vetor_anuncios)"
   ]
  },
  {
   "cell_type": "code",
   "execution_count": 39,
   "metadata": {},
   "outputs": [
    {
     "name": "stdout",
     "output_type": "stream",
     "text": [
      "                                       Titulo Imovel       Valor  \\\n",
      "0            Candeias Prince - 2102 B - Proprietário  R$ 690.000   \n",
      "1                         Vende-se Flat em Muro Alto  R$ 510.000   \n",
      "2  ILHA DE GHARBI - RUA DA HORA ESPINHEIRO. APTO....  R$ 550.000   \n",
      "3                          Apartamento Parque Prince  R$ 415.000   \n",
      "4  Imóvel para venda com 18 metros quadrados com ...  R$ 320.000   \n",
      "\n",
      "                                                Link         Localizacao  \\\n",
      "0  https://pe.olx.com.br/grande-recife/imoveis/ca...  Recife, Boa Viagem   \n",
      "1  https://pe.olx.com.br/grande-recife/imoveis/ve...    Recife, Madalena   \n",
      "2  https://pe.olx.com.br/grande-recife/imoveis/il...  Recife, Espinheiro   \n",
      "3  https://pe.olx.com.br/grande-recife/imoveis/ap...    Recife, Cordeiro   \n",
      "4  https://pe.olx.com.br/grande-recife/imoveis/im...  Recife, Boa Viagem   \n",
      "\n",
      "       Bairro Quartos Banheiros Área útil Valor condomínio Vagas garagem  \n",
      "0  Boa Viagem       3         2      67m²              N/A             1  \n",
      "1    Madalena       1         1      34m²           R$ 645     5 ou mais  \n",
      "2  Espinheiro       4         3     120m²           R$ 850             2  \n",
      "3    Cordeiro       2         2      63m²           R$ 650             1  \n",
      "4  Boa Viagem       1         1      18m²           R$ 250             1  \n"
     ]
    }
   ],
   "source": [
    "# Função para extrair dados da coluna Propriedade com tratamento para None\n",
    "def extrair_info(properties_list, info_name):\n",
    "    if properties_list is None:\n",
    "        return 'N/A'\n",
    "    for prop in properties_list:\n",
    "        if prop['name'] == info_name:\n",
    "            return prop['value']\n",
    "    return 'N/A'\n",
    "\n",
    "# Aplicar a função para criar novas colunas\n",
    "df['Quartos'] = df['Propriedade'].apply(lambda x: extrair_info(x, 'rooms'))\n",
    "df['Banheiros'] = df['Propriedade'].apply(lambda x: extrair_info(x, 'bathrooms'))\n",
    "df['Área útil'] = df['Propriedade'].apply(lambda x: extrair_info(x, 'size'))\n",
    "df['Valor condomínio'] = df['Propriedade'].apply(lambda x: extrair_info(x, 'condominio'))\n",
    "df['Vagas garagem'] = df['Propriedade'].apply(lambda x: extrair_info(x, 'garage_spaces'))\n",
    "\n",
    "\n",
    "df_imoveis = df.drop(columns=['Propriedade', 'Adicionais'])\n",
    "\n",
    "print(df_imoveis.head(5))"
   ]
  },
  {
   "cell_type": "code",
   "execution_count": 40,
   "metadata": {},
   "outputs": [],
   "source": [
    "df_imoveis.to_excel('imoveis_recife.xlsx', index=False)"
   ]
  },
  {
   "cell_type": "markdown",
   "metadata": {},
   "source": [
    "----"
   ]
  }
 ],
 "metadata": {
  "kernelspec": {
   "display_name": "Python 3",
   "language": "python",
   "name": "python3"
  },
  "language_info": {
   "codemirror_mode": {
    "name": "ipython",
    "version": 3
   },
   "file_extension": ".py",
   "mimetype": "text/x-python",
   "name": "python",
   "nbconvert_exporter": "python",
   "pygments_lexer": "ipython3",
   "version": "3.12.6"
  }
 },
 "nbformat": 4,
 "nbformat_minor": 2
}
